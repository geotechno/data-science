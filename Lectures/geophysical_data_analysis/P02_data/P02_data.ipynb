{
 "cells": [
  {
   "cell_type": "markdown",
   "metadata": {},
   "source": [
    "![](images/obspy_logo_full_524x179px.png)"
   ]
  },
  {
   "cell_type": "markdown",
   "metadata": {},
   "source": [
    "<div style=\"background-color:#009440; padding: 0px; background-size:cover; background-opacity:50%; border-radius:5px; height: 300px\">\n",
    "    <div style=\"margin: 5px; padding: 10px;\"><h1 style=\"color:#00000\">Geophysical Data Acquisition and Analysis</h1>\n",
    "    <h4 style=\"color:#dddddd\">LMU, 25 April 2016</h4>\n",
    "    </div>\n",
    "    <div style=\"float:right; margin: 10px; padding: 20px; background:rgba(255,255,255,0.7); width: 70%; height: 150px\">\n",
    "        <div style=\"position:relative; top:30%; transform: translateY(-50%)\">\n",
    "            <div style=\"font-size: x-large; font-weight:900; color:rgba(0,0,0,0.8); line-height:100%\">P03 - Data</div>\n",
    "                    </div>\n",
    "    </div>\n",
    "</div>"
   ]
  },
  {
   "cell_type": "markdown",
   "metadata": {},
   "source": [
    "In this exersise we will write some simple Obspy programs to read, view and save data. "
   ]
  },
  {
   "cell_type": "markdown",
   "metadata": {},
   "source": [
    "Question 7\n",
    "\n",
    "A colleague sends you some data, but does not tell you anything about the format. Your goal is to view and plot the data."
   ]
  },
  {
   "cell_type": "markdown",
   "metadata": {},
   "source": [
    "The file is in the Data directory and is called AP.S16.MO.BHX.1972.113.part1\n",
    "    \n",
    "    Data/AP.S16.MO.BHX.1972.113.part1\n",
    "    \n",
    "The correct modules have been imported for you.\n",
    "\n",
    "Read the data, print the stat information for the trace and plot the seismogram. "
   ]
  },
  {
   "cell_type": "code",
   "execution_count": 2,
   "metadata": {
    "collapsed": false
   },
   "outputs": [],
   "source": [
    "%matplotlib inline\n",
    "from __future__ import print_function\n",
    "from obspy import read\n",
    "\n"
   ]
  },
  {
   "cell_type": "markdown",
   "metadata": {},
   "source": [
    "What data format were the data in? "
   ]
  },
  {
   "cell_type": "markdown",
   "metadata": {},
   "source": [
    "Now write the data in the current format. (Hint: you can use the write method on the stream object). "
   ]
  },
  {
   "cell_type": "markdown",
   "metadata": {},
   "source": [
    "Now lets change the format: \n",
    "\n",
    "Save it as 'SH_ASC' format. "
   ]
  },
  {
   "cell_type": "markdown",
   "metadata": {},
   "source": [
    "That's it! Note that Obspy worked out the data format. And then we saved it in a different format with one line of code. "
   ]
  },
  {
   "cell_type": "markdown",
   "metadata": {},
   "source": [
    "This seismgram is from the Moon. The seismometer was placed on the Moon by the Apollo 16 astronauts. "
   ]
  },
  {
   "cell_type": "code",
   "execution_count": null,
   "metadata": {
    "collapsed": true
   },
   "outputs": [],
   "source": []
  }
 ],
 "metadata": {
  "kernelspec": {
   "display_name": "Python 3",
   "language": "python",
   "name": "python3"
  },
  "language_info": {
   "codemirror_mode": {
    "name": "ipython",
    "version": 3
   },
   "file_extension": ".py",
   "mimetype": "text/x-python",
   "name": "python",
   "nbconvert_exporter": "python",
   "pygments_lexer": "ipython3",
   "version": "3.5.1"
  }
 },
 "nbformat": 4,
 "nbformat_minor": 0
}
