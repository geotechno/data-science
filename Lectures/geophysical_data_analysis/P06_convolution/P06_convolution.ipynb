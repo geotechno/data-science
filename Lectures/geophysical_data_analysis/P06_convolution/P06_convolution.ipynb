{
 "cells": [
  {
   "cell_type": "markdown",
   "metadata": {},
   "source": [
    "<div style=\"background-color:#009440; padding: 0px; background-size:cover; background-opacity:50%; border-radius:5px; height:300px\">\n",
    "    <div style=\"margin: 5px; padding: 10px;\">\n",
    "    <h1 style=\"color:#00000\">Geophysical Data Acquisition and Analysis</h1>\n",
    "    <h5 style=\"color:#C0C0C0\">LMU, 30 May 2016</h5>\n",
    "    <h4 style=\"color:rgba(0,0,0,0.6)\">Stefanie Donner, Céline Hadziioannou, Ceri Nunn</h4>\n",
    "    </div>\n",
    "    <div style=\"float:right; margin: 20px; padding: 20px; background:rgba(255,255,255,0.7); width: 70%; height: 100px\">\n",
    "        <div style=\"position:relative; top:40%; transform: translateY(-50%)\">\n",
    "        <div style=\"font-size: x-large; font-weight:900; color:rgba(0,0,0,0.8); line-height:100%\">P06 - Convolution</div>\n",
    "        </div>\n",
    "    </div>\n",
    "</div>"
   ]
  },
  {
   "cell_type": "markdown",
   "metadata": {},
   "source": [
    "**Please, do not forget to execute the Cell 1 first!**"
   ]
  },
  {
   "cell_type": "code",
   "execution_count": null,
   "metadata": {
    "collapsed": false
   },
   "outputs": [],
   "source": [
    "# Cell 1: Preparation for programming\n",
    "%pylab inline\n",
    "from __future__ import print_function\n",
    "from scipy import interpolate, signal\n",
    "from time import *\n",
    "from obspy import *\n",
    "import numpy as np\n",
    "import matplotlib.pylab as plt\n",
    "plt.style.use('ggplot')\n",
    "plt.rcParams['figure.figsize'] = 8, 3"
   ]
  },
  {
   "cell_type": "markdown",
   "metadata": {},
   "source": [
    "<br />\n",
    "<br />"
   ]
  },
  {
   "cell_type": "markdown",
   "metadata": {},
   "source": [
    "## Markdown\n",
    "\n",
    "In this notebook you are explicitly asked to work with markdown cells. This is an exercise in prepartion for the endterm report, which exclusively will be done in a notebook. \n",
    "\n",
    "With markdown cells you are able to include paragraphs of text within a notebook. Markdown is a \"lightweight markup language with plain text formatting syntax designed so that it can be converted to HTML\" (Wikipedia). To get informed on it, you can check out the wikipedia webpage. The second link provides you with a quick overview how to use markdown effectively. Acutally, you can use markdown cells by just typing your plain text but to make your text \"look nice\" these two links may help.\n",
    "\n",
    "[Markdown @ Wikipedia](https://en.wikipedia.org/wiki/Markdown)\n",
    "\n",
    "[Mardown Cheat Sheet](https://github.com/adam-p/markdown-here/wiki/Markdown-Cheatsheet)\n",
    "\n",
    "To add a markdown cell to a notebook, just use the `plus` sign for adding another cell. Then, change it from `Code` into `Markdown` by selecting this option from the drop-down menu on top of the page."
   ]
  },
  {
   "cell_type": "markdown",
   "metadata": {},
   "source": [
    "<br />\n",
    "<br />"
   ]
  },
  {
   "cell_type": "markdown",
   "metadata": {},
   "source": [
    "### Exercise 1: Convolution with a boxcar function"
   ]
  },
  {
   "cell_type": "markdown",
   "metadata": {},
   "source": [
    "This exercise is dedicated to understand the principle of convolution. Here, we will convolve a signal with a boxcar function in two different ways and compare the results.\n",
    "\n",
    "a) Try to understand the code in Cell 2 and 3. Execute the cells.\n",
    "\n",
    "b) Try to understand the code in Cell 4a and 4b. Execute the cells. What to do you observe concerning the time needed for calculation? What do you observe concerning the number of samples of the original and convolved functions? Try to explain your observations, use a markdown cell to write down your observations.\n",
    "\n",
    "c) Use the Cells 5a and 5b to perform the convolution of the cosine with the boxcar. Compare the results of the two convolved signals and try to explain your observation. Hint: Remember what you learned last lesson. Again, use a markdown cell to write down your observations."
   ]
  },
  {
   "cell_type": "code",
   "execution_count": null,
   "metadata": {
    "collapsed": true
   },
   "outputs": [],
   "source": [
    "# Cell 2: Defining a function for discrete convolution\n",
    "# mainly i.e.: flip, shift, multiply and sum\n",
    "def conv(x, y):\n",
    "    \"\"\"Calculates the discrete convolution of two signals x and y.\n",
    "    \n",
    "    In\n",
    "    ----------\n",
    "    x : first signal, the \"measurement\" (array of floats)\n",
    "    y : second signal, the convolution function, sometimes called kernel (array of float)\n",
    "\n",
    "    Out\n",
    "    -------\n",
    "    c : convolution (array of floats)\n",
    "    \"\"\"\n",
    "    m = len(x)\n",
    "    n = len(y)\n",
    "    c = np.zeros(m+n-1)              # initally, setting all convolution values to zero\n",
    "    \n",
    "    for i in range(0, m):\n",
    "        for j in range(0, n):\n",
    "            c[i] += x[i-j] * y[j]\n",
    "            \n",
    "    return c"
   ]
  },
  {
   "cell_type": "code",
   "execution_count": null,
   "metadata": {
    "collapsed": false
   },
   "outputs": [],
   "source": [
    "# Cell 3: Defining the boxcar + two different functions\n",
    "\n",
    "npts = 4096                             # number of samples, initial value: 4096\n",
    "dt = 0.025                                # sample rate, initial value:0.025 \n",
    "# What is the maximum frequency of the data?   \n",
    "\n",
    "t = np.linspace(0,npts*dt,npts)\n",
    "\n",
    "# boxcar\n",
    "box = np.zeros(npts)\n",
    "for i in range(400,600):\n",
    "    box[i] = 1.\n",
    "\n",
    "# Rieker wavelet\n",
    "rk = signal.ricker(npts, 20.0)         # 2nd number = width of wavelet, intial value: 20.0 \n",
    "\n",
    "# cosine \n",
    "cosine = np.cos(t/2)\n",
    "    \n",
    "# plot all functions\n",
    "rcParams[\"figure.figsize\"] = (15, 3)\n",
    "\n",
    "plt.subplot(131)\n",
    "plt.plot(t, box)\n",
    "plt.ylim(0,1.2)\n",
    "#plt.xlim(0,100)\n",
    "plt.xlabel('time [s]')\n",
    "plt.ylabel('amplitude')\n",
    "\n",
    "plt.subplot(132)\n",
    "plt.plot(t, rk)\n",
    "#plt.xlim(0,100)\n",
    "plt.xlabel('time [s]')\n",
    "\n",
    "plt.subplot(133)\n",
    "plt.plot(t, cosine)\n",
    "plt.xlabel('time [s]')\n",
    "\n",
    "plt.show()\n"
   ]
  },
  {
   "cell_type": "code",
   "execution_count": null,
   "metadata": {
    "collapsed": false
   },
   "outputs": [],
   "source": [
    "# Cell 4a: Determine the convolution of the Rieker wavelet with the boxcar\n",
    "\n",
    "# measures time since 01.01.1970 in seconds\n",
    "tick1 = time() \n",
    "# calculate convolution with function of Cell 2\n",
    "c1 = conv(rk, box)\n",
    "tick2 = time()                     \n",
    "\n",
    "# calculate convolution with numpy function\n",
    "tick3 = time()\n",
    "c2 = np.convolve(rk, box)\n",
    "tick4 = time()\n",
    "\n",
    "#taking first time difference and give it in seconds\n",
    "delta=tick2 - tick1\n",
    "hours=int( delta/3600. )\n",
    "minit=int((delta-hours*3600.)/60. )\n",
    "secon=int( delta-hours*3600.-minit*60. )\n",
    "print(\"1st run:\", secon, \"s needed for calculation\")\n",
    "#taking secondt time difference and give it in seconds\n",
    "delta=tick4 - tick3\n",
    "hours=int( delta/3600. )\n",
    "minit=int((delta-hours*3600.)/60. )\n",
    "secon=int( delta-hours*3600.-minit*60. )\n",
    "print(\"2nd run:\", secon, \"s needed for calculation\")\n"
   ]
  },
  {
   "cell_type": "code",
   "execution_count": null,
   "metadata": {
    "collapsed": false
   },
   "outputs": [],
   "source": [
    "# Cell 4b: plot convolutions\n",
    "\n",
    "# preparation for plotting\n",
    "print('number of samples of new signal:', len(c1))\n",
    "npts2 = len(c1)\n",
    "t2 = np.linspace(0,npts2*dt,npts2)\n",
    "\n",
    "# plotting\n",
    "plt.subplot(121)\n",
    "plt.plot(t2, c1)\n",
    "#plt.xlim(0,130)\n",
    "plt.xlabel('time [s]')\n",
    "plt.ylabel('amplitude')\n",
    "\n",
    "plt.subplot(122)\n",
    "plt.plot(t2, c2)\n",
    "#plt.xlim(0,130)\n",
    "plt.xlabel('time [s]')\n",
    "\n",
    "plt.show()"
   ]
  },
  {
   "cell_type": "code",
   "execution_count": null,
   "metadata": {
    "collapsed": false
   },
   "outputs": [],
   "source": [
    "# Cell 5a: Determine the convolution of cosine with the boxcar\n",
    "\n"
   ]
  },
  {
   "cell_type": "code",
   "execution_count": null,
   "metadata": {
    "collapsed": false
   },
   "outputs": [],
   "source": [
    "# Cell 5b: plot convolutions\n",
    "\n"
   ]
  },
  {
   "cell_type": "markdown",
   "metadata": {},
   "source": [
    "<br />\n",
    "<br />\n",
    "<br />"
   ]
  },
  {
   "cell_type": "markdown",
   "metadata": {},
   "source": [
    "### Exercise 2: Convolution of noisy data"
   ]
  },
  {
   "cell_type": "markdown",
   "metadata": {},
   "source": [
    "This exercise will show you what can happen when you convolve/filter noisy data and do not take care for the noise.\n",
    "Be aware of the trade off between stabilizing the deconvolution and degrading accuracy of deconvolution!\n",
    "\n",
    "a) Try to understand the code in Cell 6 and 7, and execute them. Compare the convolved signals in time and frequency domain. Describe what you see and the reason for it in a markdown cell.\n",
    "\n",
    "b) Try to understand the code of Cell 8 and execute it. Describe and explain the outcome in a markdown cell.\n",
    "\n",
    "c) Play around with the water-level applied during deconvolution (line 7 in Cell 8): change it in steps to higher values. What happens? Try to explain."
   ]
  },
  {
   "cell_type": "code",
   "execution_count": null,
   "metadata": {
    "collapsed": false
   },
   "outputs": [],
   "source": [
    "# Cell 6: setting up a noisy signal to be convolved with the \"characteristics of a measurement device\"\n",
    "\n",
    "# creating original signal\n",
    "npts = 2048                             # number of samples, initial value: 2048\n",
    "dt = 0.1                                # sample rate, initial value:0.1 \n",
    "t = np.linspace(0, npts*dt, npts)\n",
    "a_ = np.sin(2*np.pi*dt * t + np.pi/5)\n",
    "\n",
    "# creating noisy signal\n",
    "an_ = a_  * np.random.rand(a_.size) \n",
    "\n",
    "# need to taper the signal first \n",
    "taper_percentage = 0.03  \n",
    "# choose the type of taper window\n",
    "taper = np.bartlett(int(npts * taper_percentage))\n",
    "# fill taper with ones in the middle to fit length of data\n",
    "taper_left, taper_right = np.array_split(taper, 2)\n",
    "taper = np.concatenate([taper_left, np.ones(npts-len(taper)), taper_right])\n",
    "# Taper signals\n",
    "a = a_ * taper\n",
    "an = an_ * taper\n",
    "\n",
    "# creating gauss function as \"characterisitc of measurement devise\"\n",
    "npts2 = 1024\n",
    "dt2=0.01\n",
    "gauss = 0.5 * signal.gaussian(npts2, std=50)\n",
    "tg = np.linspace(0, npts2*dt2, npts2)\n",
    "\n",
    "\n",
    "# plot everything\n",
    "rcParams[\"figure.figsize\"] = (16, 8)\n",
    "\n",
    "plt.subplot(231)\n",
    "plt.plot(t, a, 'b')\n",
    "plt.title('original signal')\n",
    "plt.xlim(0, 220)\n",
    "plt.ylim(-1.1, 1.1)\n",
    "plt.xlabel('time [s]')\n",
    "plt.ylabel('amplitude')\n",
    "\n",
    "plt.subplot(232)\n",
    "plt.plot(t, an, 'b')\n",
    "plt.xlim(0, 220)\n",
    "plt.ylim(-1.1, 1.1)\n",
    "plt.title('noisy signal')\n",
    "plt.xlabel('time [s]')\n",
    "\n",
    "plt.subplot(233)\n",
    "plt.plot(tg, gauss, 'b')\n",
    "plt.xlim(0, 220)\n",
    "plt.ylim(0, 1.1)\n",
    "plt.title('\"measurement chracteristic\"')\n",
    "plt.xlabel('time [s]')\n",
    "\n",
    "plt.subplot(234)\n",
    "A = np.fft.rfft(a)\n",
    "f = np.linspace(0, (1/dt)/2, len(A))\n",
    "plt.semilogx(f, abs(A), 'b')\n",
    "plt.xlim(0,3)\n",
    "plt.xlabel('frequency [Hz]')\n",
    "plt.ylabel('amplitude')\n",
    "\n",
    "plt.subplot(235)\n",
    "AN = np.fft.rfft(an)\n",
    "plt.semilogx(f, abs(AN), 'b')\n",
    "plt.xlim(0,3)\n",
    "plt.xlabel('frequency [Hz]')\n",
    "\n",
    "plt.subplot(236)\n",
    "GAUSS = np.fft.rfft(gauss)\n",
    "fg = np.linspace(0, (1/dt2)/2, len(GAUSS))\n",
    "plt.semilogx(fg, abs(GAUSS), 'b')\n",
    "plt.xlim(0,5)\n",
    "plt.xlabel('frequency [Hz]')\n",
    "\n",
    "plt.show()\n"
   ]
  },
  {
   "cell_type": "code",
   "execution_count": null,
   "metadata": {
    "collapsed": false
   },
   "outputs": [],
   "source": [
    "# Cell 7: convolve both signals with \"characteristic\"\n",
    "# remember: convolution in the time domain is multiplication in the frequency domain \n",
    "\n",
    "# zero padding to ensure that G has the same length than the functions\n",
    "padding_factor = npts /npts2        \n",
    "G = np.fft.rfft(gauss, n=int(len(gauss)*padding_factor))\n",
    "\n",
    "# convolve pure signal\n",
    "A = np.fft.rfft(a)\n",
    "Aconv = np.fft.irfft(G * A)\n",
    "\n",
    "# convolve noisy signal\n",
    "AN = np.fft.rfft(an)\n",
    "ANconv = np.fft.irfft(G * AN)\n",
    "\n",
    "# plot everything\n",
    "tc = np.linspace(0, len(ANconv)*dt, len(ANconv))\n",
    "rcParams[\"figure.figsize\"] = (16, 8)\n",
    "\n",
    "plt.subplot(221)\n",
    "plt.plot(tc, Aconv, 'b')\n",
    "plt.xlabel('time [s]')\n",
    "plt.ylabel('amplitude')\n",
    "\n",
    "plt.subplot(222)\n",
    "plt.plot(tc, ANconv, 'b')\n",
    "plt.xlabel('time [s]')\n",
    "\n",
    "plt.subplot(223)\n",
    "AC = np.fft.rfft(Aconv)\n",
    "fac = np.linspace(0, (1/dt)/2, len(AC))\n",
    "plt.semilogx(fac, abs(AC), 'b')\n",
    "plt.xlabel('frequency [Hz]')\n",
    "plt.ylabel('amplitude')\n",
    "\n",
    "plt.subplot(224)\n",
    "ANC = np.fft.rfft(ANconv)\n",
    "plt.semilogx(fac, abs(ANC), 'b')\n",
    "plt.xlabel('frequency [Hz]')\n",
    "\n",
    "plt.show()\n"
   ]
  },
  {
   "cell_type": "code",
   "execution_count": null,
   "metadata": {
    "collapsed": false
   },
   "outputs": [],
   "source": [
    "# Cell 8: deconvolution and comparison with original function \n",
    "\n",
    "# to not always overwrite G, we copy it and work with the copy\n",
    "G_ = G.copy()\n",
    "\n",
    "# because division by zero is not defined, we need to provide a water leverl aleady now\n",
    "wl = 1e-20             # initial value 1e-20\n",
    "for i in range(0, len(G_)):\n",
    "    if G_[i] < wl:\n",
    "        G_[i] += wl\n",
    "        \n",
    "# deconvolve pure signal\n",
    "Adeconv = np.fft.irfft(AC/ G_)\n",
    "\n",
    "# deconvolve noisy signal\n",
    "ANdeconv = np.fft.irfft(ANC/ G_)\n",
    "\n",
    "# plot everything\n",
    "tdc = np.linspace(0, len(Adeconv)*dt, len(Adeconv))\n",
    "rcParams[\"figure.figsize\"] = (16, 8)\n",
    "\n",
    "plt.subplot(221)\n",
    "plt.plot(tdc, a, 'r')\n",
    "plt.plot(tdc, Adeconv, 'b')\n",
    "plt.xlim(0, 100)\n",
    "plt.xlabel('time [s]')\n",
    "plt.ylabel('amplitude')\n",
    "\n",
    "plt.subplot(222)\n",
    "plt.plot(tdc, an, 'r')\n",
    "plt.plot(tdc, ANdeconv, 'b')\n",
    "plt.xlim(0, 100)\n",
    "plt.xlabel('time [s]')\n",
    "\n",
    "plt.subplot(223)\n",
    "AD = np.fft.rfft(Adeconv)\n",
    "fac = np.linspace(0, (1/dt)/2, len(AC))\n",
    "plt.semilogx(fac, abs(AD), 'b')\n",
    "plt.xlabel('frequency [Hz]')\n",
    "plt.ylabel('amplitude')\n",
    "\n",
    "plt.subplot(224)\n",
    "AND = np.fft.rfft(ANdeconv)\n",
    "plt.semilogx(fac, abs(AND), 'b')\n",
    "plt.xlabel('frequency [Hz]')\n",
    "\n",
    "plt.show()\n"
   ]
  }
 ],
 "metadata": {
  "kernelspec": {
   "display_name": "Python 2",
   "language": "python",
   "name": "python2"
  },
  "language_info": {
   "codemirror_mode": {
    "name": "ipython",
    "version": 2
   },
   "file_extension": ".py",
   "mimetype": "text/x-python",
   "name": "python",
   "nbconvert_exporter": "python",
   "pygments_lexer": "ipython2",
   "version": "2.7.11"
  }
 },
 "nbformat": 4,
 "nbformat_minor": 0
}
