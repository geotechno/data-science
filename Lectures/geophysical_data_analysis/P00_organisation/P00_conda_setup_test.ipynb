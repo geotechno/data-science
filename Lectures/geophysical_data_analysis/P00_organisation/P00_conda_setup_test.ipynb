{
 "cells": [
  {
   "cell_type": "markdown",
   "metadata": {},
   "source": [
    "# Test basic functionality of essential packages"
   ]
  },
  {
   "cell_type": "code",
   "execution_count": null,
   "metadata": {
    "collapsed": false
   },
   "outputs": [],
   "source": [
    "%matplotlib inline\n",
    "from __future__ import print_function\n",
    "import matplotlib.pylab as plt\n",
    "import numpy as np\n",
    "from obspy import read\n",
    "\n",
    "# ObsPy\n",
    "st = read()\n",
    "print(st)\n",
    "st.plot()\n",
    "\n",
    "# matplotlib \n",
    "st.filter(\"highpass\", freq=0.5)\n",
    "plt.plot(st[0].data)\n",
    "plt.show()\n",
    "\n",
    "# numpy\n",
    "np.std(st[2].data) \n"
   ]
  },
  {
   "cell_type": "code",
   "execution_count": null,
   "metadata": {
    "collapsed": true
   },
   "outputs": [],
   "source": []
  }
 ],
 "metadata": {
  "kernelspec": {
   "display_name": "Python 3",
   "language": "python",
   "name": "python3"
  },
  "language_info": {
   "codemirror_mode": {
    "name": "ipython",
    "version": 3
   },
   "file_extension": ".py",
   "mimetype": "text/x-python",
   "name": "python",
   "nbconvert_exporter": "python",
   "pygments_lexer": "ipython3",
   "version": "3.5.1"
  }
 },
 "nbformat": 4,
 "nbformat_minor": 0
}
