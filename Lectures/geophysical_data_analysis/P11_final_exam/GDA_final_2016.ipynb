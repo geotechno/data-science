{
 "cells": [
  {
   "cell_type": "markdown",
   "metadata": {},
   "source": [
    "<div style=\"background-color:#009440; padding: 0px; background-size:cover; background-opacity:50%; border-radius:5px; height:300px\">\n",
    "    <div style=\"margin: 5px; padding: 10px;\">\n",
    "    <h1 style=\"color:#00000\">Geophysical Data Acquisition and Analysis</h1>\n",
    "    <h5 style=\"color:#C0C0C0\">LMU, summer 2016</h5>\n",
    "    <h4 style=\"color:rgba(0,0,0,0.6)\">Stefanie Donner, Céline Hadziioannou, Ceri Nunn</h4>\n",
    "    </div>\n",
    "    <div style=\"float:right; margin: 20px; padding: 20px; background:rgba(255,255,255,0.7); width: 70%; height: 100px\">\n",
    "        <div style=\"position:relative; top:40%; transform: translateY(-50%)\">\n",
    "        <div style=\"font-size: x-large; font-weight:900; color:rgba(0,0,0,0.8); line-height:100%\">P2.4 - Final exam report</div>\n",
    "        </div>\n",
    "    </div>\n",
    "   \n",
    "</div>"
   ]
  },
  {
   "cell_type": "markdown",
   "metadata": {},
   "source": [
    "## Rules + deadline\n",
    "\n",
    "In the following you find five exercises plus some basic code. Adapt the code as needed to answer the questions and provide your answers in separate markdown cells below the exercise. Please, do not forget to label axes, lines, titles, etc in your plots.  \n",
    "Make sure that your answers are as elaborate and detailed as necessary to make your answer clear. However, concentrate on the essentials. \n",
    "\n",
    "In case you refer to literature/sources outside the course material, do not forget to acknowledge or cite them properly. You are also allowed to include images from outside the notebook if that may help you to explain. In that case, do not forget to provide us with the image files then. This is how you import figures in markdown: \n",
    "\n",
    "`<img style=\"float: left; height: 350px; padding: 10px\" src=\"DATA/figure.jpg\"/>`\n",
    "\n",
    "For help with coding, please, consult the official [Python](http://docs.python.org/) and [ObsPy](http://docs.obspy.org) documentation. For help in formating the markdown cells, you can find help e.g. at the webpage of [wikipedia](https://en.wikipedia.org/wiki/Markdown) or on the [cheat sheet](https://github.com/adam-p/markdown-here/wiki/Markdown-Cheatsheet). In case of severe problems, please contact us in time.\n",
    "\n",
    "Submit your final notebook via mail to Stefanie Donner (donner@geophysik.uni-muenchen.de) at the latest \n",
    "\n",
    "### August 5th, 23:55 !!!\n",
    "\n",
    "Notebooks received after that time will not be considered.\n",
    "\n",
    "*Please, do not forget to execute Cell 0 first!*\n",
    "\n",
    "<br>\n",
    "<br>"
   ]
  },
  {
   "cell_type": "code",
   "execution_count": null,
   "metadata": {
    "collapsed": false
   },
   "outputs": [],
   "source": [
    "# Cell 0: Preparation for programming\n",
    "%pylab inline\n",
    "from __future__ import print_function\n",
    "from scipy import interpolate, signal\n",
    "from time import *\n",
    "from obspy import *\n",
    "from obspy.core import read, UTCDateTime\n",
    "from obspy.clients.fdsn import Client\n",
    "from obspy.signal.cross_correlation import xcorr_pick_correction\n",
    "import numpy as np\n",
    "import matplotlib.pylab as plt\n",
    "import os\n",
    "import glob\n",
    "import wave\n",
    "import struct\n",
    "plt.style.use('ggplot')\n",
    "plt.rcParams['figure.figsize'] = 10, 10\n",
    "plt.rcParams['lines.linewidth'] = 1"
   ]
  },
  {
   "cell_type": "markdown",
   "metadata": {},
   "source": [
    "______________\n",
    "\n",
    "## Exercise 1\n",
    "\n",
    "In this exercise you will work on broadband data from the Mw8.2 Chile earthquake from 1st of April 2014 at 23:46:47 UTC recorded at the black forest station in SW Germany (BFO). The goal of this exercise is to show your understanding of the principal basics in signal processing. Answer the following questions and perform the necessary steps in the corresponding code cells.\n",
    "\n",
    "a) In cell 1a you fetch the waveforms via the FDSN client of IRIS and remove the instrument characteristic of the data (no further coding necessary here). Explain what \"removing the instrument response\" means and why it is necessary. Which mathematical method do you connect with this step? What is to consider during instrument response removal? A hint is given by the options used for removing the instrument response. Comment on all of them.\n",
    "\n",
    "b) Now that you have downloaded the data and removed the instrument response, which further steps do you need to perform for pre-processing? Assume that for your scientific task the highest frequency you want to analyse is 5Hz. Describe the general pre-processing chain and point out the possible pitfalls and how to avoid them. Among others, some steps are high-pass filtering and demean as well as detrend the trace. Why do you do so?\n",
    "\n",
    "c) Bonus _(Optional, for extra points)_: Try to plot the ray paths for this special earthquake receiver pair. Identify which phases should be theoretically visible in the seismogram. Try to identify them. "
   ]
  },
  {
   "cell_type": "code",
   "execution_count": null,
   "metadata": {
    "collapsed": false
   },
   "outputs": [],
   "source": [
    "# Cell 1a : getting the waveforms\n",
    "\n",
    "client = Client(\"IRIS\")\n",
    "t = UTCDateTime(\"2014-04-01T23:30:0.0\")\n",
    "\n",
    "st = client.get_waveforms(\"II\", \"BFO\", \"*\", \"BH?\", t, t+(180*60), attach_response=True)\n",
    "print(st)\n",
    "st[0].remove_response(output=\"VEL\", pre_filt=None, water_level=30, zero_mean=True, taper=True, taper_fraction=0.05, \n",
    "                   plot=False)\n",
    "st[1].remove_response(output=\"VEL\", pre_filt=None, water_level=30, zero_mean=True, taper=True, taper_fraction=0.05, \n",
    "                   plot=False)\n",
    "st[2].remove_response(output=\"VEL\", pre_filt=None, water_level=30, zero_mean=True, taper=True, taper_fraction=0.05, \n",
    "                   plot=True)"
   ]
  },
  {
   "cell_type": "code",
   "execution_count": null,
   "metadata": {
    "collapsed": false
   },
   "outputs": [],
   "source": [
    "# Cell 1b: pre-processing the data\n",
    "\n",
    "# take a copy of the stream to avoid overwriting the original data\n",
    "bfo = st.copy()\n",
    "\n",
    "\n"
   ]
  },
  {
   "cell_type": "code",
   "execution_count": null,
   "metadata": {
    "collapsed": false
   },
   "outputs": [],
   "source": [
    "# Cell 1c - part 1: plot of ray pathes for this EQ-receiver pair\n",
    "\n",
    "# loading the necessary package as a hint ...\n",
    "from obspy.taup import TauPyModel\n",
    "\n",
    "\n"
   ]
  },
  {
   "cell_type": "code",
   "execution_count": null,
   "metadata": {
    "collapsed": false
   },
   "outputs": [],
   "source": [
    "# Cell 1c - part 2: plot seismogram with theoretical travel times\n",
    "\n",
    "# loading the necessary package as a hint ...\n",
    "from matplotlib.pyplot import cm\n",
    "\n",
    "\n"
   ]
  },
  {
   "cell_type": "markdown",
   "metadata": {},
   "source": [
    "### Answer to exercise 1\n",
    "\n",
    "..."
   ]
  },
  {
   "cell_type": "markdown",
   "metadata": {},
   "source": [
    "_____________\n",
    "## Exercise 2 : Marienplatz Glockenspiel - spectral analysis\n",
    "\n",
    "In the very top of the tower of the New Town Hall (Rathaus) on Marienplatz, there are 43 bells, which chime different tunes daily at 11am and 12am. The tunes accompany a spectacle of figurines that move and illustrate local stories.  \n",
    "In this exercise, we will analyze a recording of the Glockenspiel bells. \n",
    "\n",
    "You can read more about the Glockenspiel here: https://en.wikipedia.org/wiki/Rathaus-Glockenspiel\n",
    "\n",
    "You can listen to the first tune of the Glockenspiel recording by playing `data/Glockenspiel_Marienplatz_track1.wav`  \n",
    "\n",
    "\n",
    "---\n",
    "\n",
    "<img style=\"float: left; height: 350px; padding: 10px\" src=\"data/rathaus_munchen.jpg\"  />\n",
    "<img style=\"float: right; height: 350px; padding: 10px\" src=\"data/glockenspiel_inside.jpg\"  />\n",
    "\n",
    "\n",
    "###### Acknowledgement\n",
    "_photo Rathaus (left): _ https://commons.wikimedia.org/wiki/File:Altes_Rathaus_und_Mariens%C3%A4ule_in_M%C3%BCnchen.jpg  \n",
    "_photo inside Glockenspiel (right): Thies Heidecke_  \n",
    "_We are grateful to the personnell at the Rathaus for providing access to the Glockenspiel tower._  \n",
    "_We thank Thies Heidecke for his help with the recording. _"
   ]
  },
  {
   "cell_type": "code",
   "execution_count": null,
   "metadata": {
    "collapsed": false
   },
   "outputs": [],
   "source": [
    "# Cell 2a-1 - Read in the .wav file\n",
    "\n",
    "# read in the file \n",
    "dataDir = './data/'\n",
    "fileName = 'Glockenspiel_Marienplatz_track1.wav'\n",
    "# if your computer cannot handle the complete tune, use this file instead (only first 15 seconds)\n",
    "#fileName = 'Glockenspiel_Marienplatz_track1_short.wav'\n",
    "\n",
    "stream = wave.open(dataDir + fileName,'r')\n",
    "\n",
    "# get the details about the .wav file\n",
    "num_channels = stream.getnchannels()\n",
    "frame_rate = stream.getframerate()     # sampling rate\n",
    "sample_width = stream.getsampwidth()   \n",
    "num_frames = stream.getnframes()      # number of points\n",
    "total_samples = num_frames * num_channels\n",
    "endtime = float(total_samples) / float(frame_rate)\n",
    "\n",
    "# read the byte data\n",
    "raw_data = stream.readframes( num_frames )\n",
    "stream.close()\n",
    "\n",
    "# check the type of audio track\n",
    "if sample_width == 1: \n",
    "    fmt = \"%iB\" % total_samples # read unsigned chars\n",
    "elif sample_width == 2:\n",
    "    fmt = \"%ih\" % total_samples # read signed 2 byte shorts\n",
    "else:\n",
    "    raise ValueError(\"Only supports 8 and 16 bit audio formats.\")\n",
    "\n",
    "# unpack the byte data to integers\n",
    "integer_data = struct.unpack(fmt, raw_data)\n",
    "\n",
    "# Keep memory tidy\n",
    "del raw_data\n",
    "\n",
    "# set up the channel\n",
    "channels = [ [] for time in range(num_channels) ]\n",
    "\n",
    "# read the integers to channels\n",
    "for index, value in enumerate(integer_data):\n",
    "    bucket = index % num_channels    \n",
    "    channels[bucket].append(value)\n",
    "    \n",
    "# signal and timeseries arrays:\n",
    "gsignal = channels[0]\n",
    "time = np.linspace(0,endtime,total_samples)  # in seconds\n",
    "\n",
    "print('Number of samples in the signal:', len(gsignal))    "
   ]
  },
  {
   "cell_type": "code",
   "execution_count": null,
   "metadata": {
    "collapsed": false
   },
   "outputs": [],
   "source": [
    "# Cell 2a-2 - read .wav into obspy Stream object\n",
    "\n",
    "st = read(dataDir + fileName)\n",
    "print(st)\n",
    "st.plot()\n",
    "\n",
    "# just the signal array and time vector\n",
    "gsignal_st = st[0].data\n",
    "time_st = st[0].times()"
   ]
  },
  {
   "cell_type": "markdown",
   "metadata": {},
   "source": [
    "In the previous two cells, the glockenspiel tune has been read in two different ways:\n",
    "\n",
    "+ `gsignal` is a numpy array with the signal values. Associated time vector is 'time'; sampling rate is in the variables 'frame_rate'\n",
    "+ `st` is an obspy stream object with the same glockenspiel tune. You can manipulate it in the same way as other stream objects in previous practicals. \n",
    "\n",
    "Both contain the same signal, so you can use whichever one is easiest in the following exercise. "
   ]
  },
  {
   "cell_type": "markdown",
   "metadata": {},
   "source": [
    "### Questions - part 1\n",
    "\n",
    "**Note:** if the signal is too large for your computer to handle, use the alternative, shorter signal which contains only the first 15 seconds of the tune. See Cell 2a, where the filename is defined. \n",
    "\n",
    "Create several subplots: plot the signal on top, and below that create two subplots: in the first, plot the spectrogram using a window length of 256 samples. \n",
    "In the second, plot the spectrogram with a window length of 4096 samples. In both, use an overlap of 50. \n",
    "\n",
    "a) Explain what a spectrogram (in general) represents. Through which mathematical operation is the y-axis (frequency axis) created? What controls the value of the upper limit of the y-axis?\n",
    "\n",
    "b) Compare the spectrograms with `NFFT=256` and `NFFT=4096`. What difference between the two do you notice? Think in terms of time and frequency resolution. Explain why this happens.  \n",
    "Remember you can zoom in to specific parts of the signal by manipulating the plot limits \n",
    "(`plt.xlim((value1, value2))` or `plt.ylim((value1, value2))`) \n",
    "\n",
    "c) On both spectrograms, zoom in to frequency around 6780 Hz using `plt.ylim((value1, value2))` . This frequency corresponds to one of the bells. Isolate the signal of this bell as much as you can using a filter.  \n",
    "Go to Cell 2c. In a new plot, plot the original (unfiltered) signal and the filtered signal on top of each other with different colors. How often does the 6780Hz bell ring in the first 10 seconds of the song? (You may want to trim the signal to the first 10 seconds first). \n",
    "\n",
    "d) If you plot a spectrogram of the filtered signal, you will see that the energy of the signal outside your filter band is not exactly zero. What is this effect called?  \n",
    "Explain how you could achieve a narrower filter (you do not need to execute it for this signal, just describe). What kind of tradeoff will you encounter as you use a narrower filter window? \n",
    "\n"
   ]
  },
  {
   "cell_type": "code",
   "execution_count": null,
   "metadata": {
    "collapsed": false
   },
   "outputs": [],
   "source": [
    "# Cell 2b - compare spectograms\n",
    "\n",
    "\n",
    "\n"
   ]
  },
  {
   "cell_type": "markdown",
   "metadata": {},
   "source": [
    "### Answer to exercise 2 - part 1/1\n",
    "\n",
    "a) ...\n",
    "\n",
    "\n",
    "b) ..."
   ]
  },
  {
   "cell_type": "code",
   "execution_count": null,
   "metadata": {
    "collapsed": false
   },
   "outputs": [],
   "source": [
    "# Cell 2c - isolate single bell\n",
    "\n",
    "f_bell = 6780\n",
    "stb = st.copy()\n",
    "\n",
    "\n",
    "\n"
   ]
  },
  {
   "cell_type": "markdown",
   "metadata": {},
   "source": [
    "### Answer to exercise 2 - part 1/2\n",
    "\n",
    "a) ...\n",
    "\n",
    "\n",
    "b) ..."
   ]
  },
  {
   "cell_type": "markdown",
   "metadata": {},
   "source": [
    "### Questions - part 2\n",
    "\n",
    "In the following Cell 2d, we consider part of the spectral content of a single bell chime. The spectrum is calculated for several different lengths of time window:  \n",
    "1. the complete bell chime (approx. 0.8 seconds)\n",
    "2. a short time window (500 samples)\n",
    "3. a longer time window (3000 samples)\n",
    "4. the longer time window, with the rest of the signal set to zero (so 3000 samples + zero padding to complete signal length) (**Note:** in the first plot, the blue signal is offset downwards by 500 points. This is just to make the difference between green and blue line more visible. ) \n",
    "\n",
    "Explain the difference between the spectra obtained with the different time window lengths. \n",
    "In particular, consider why the peak around f=3750Hz does not show up when using the shortest time window (red line). Why is the blue spectrum smoother than the green one? \n",
    "\n"
   ]
  },
  {
   "cell_type": "code",
   "execution_count": null,
   "metadata": {
    "collapsed": false
   },
   "outputs": [],
   "source": [
    "# Cell 2d - single bell chime\n",
    "\n",
    "NFFT = 256\n",
    "\n",
    "# time limits to trim signal to, in seconds \n",
    "ts1 = st[0].stats.starttime + 9.1\n",
    "ts2 = ts1 + 0.8\n",
    "\n",
    "# subwindow lengths, in samples\n",
    "lwin1 = 500\n",
    "lwin2 = 3000\n",
    "\n",
    "# time limits for subwindow in signal, in samples\n",
    "lim1 = 17000\n",
    "lim2 = lim1 + lwin1\n",
    "lim3 = lim1 + lwin2\n",
    "\n",
    "stsh = st.copy()\n",
    "stsh.trim(ts1, ts2)\n",
    "print(stsh)\n",
    "\n",
    "stz = st.copy()\n",
    "stz.trim(ts1, ts2)\n",
    "# set signal outside subwindow to zero\n",
    "stz[0].data[0:lim1] = 0\n",
    "stz[0].data[lim3:] = 0\n",
    "\n",
    "# calculate spectrum for different window lengths:\n",
    "# whole signal (black)\n",
    "f, Pxx_den = signal.periodogram(stsh[0].data, stsh[0].stats.sampling_rate)\n",
    "# short timew window (red)\n",
    "f2, Pxx_den2 = signal.periodogram(stsh[0].data[lim1:lim2], stsh[0].stats.sampling_rate)\n",
    "# longer time window (green)\n",
    "f3, Pxx_den3 = signal.periodogram(stz[0].data[lim1:lim3], stz[0].stats.sampling_rate)\n",
    "# longer time window, with zero padding around it (blue)\n",
    "f4, Pxx_den4 = signal.periodogram(stz[0].data, stz[0].stats.sampling_rate)\n",
    "\n",
    "# plot signal, spectrogram and spectrum (zoomed in to 2 peaks, as indicated by black box in spectrogram)\n",
    "plt.figure(figsize=(15,12))\n",
    "\n",
    "# time series\n",
    "ax1 = plt.subplot(311)\n",
    "plt.plot(stsh[0].times(), stsh[0].data, 'k', label='whole signal')\n",
    "plt.plot(stz[0].times(), stz[0].data - 500, 'b', label='longer timewindow, zero padded')\n",
    "plt.plot(stz[0].times()[lim1:lim3], stz[0].data[lim1:lim3], 'g', label='longer timewindow')\n",
    "plt.plot(stsh[0].times()[lim1:lim2], stsh[0].data[lim1:lim2], 'r', label='short timewindow')\n",
    "plt.legend()\n",
    "plt.xlabel('time [s]')\n",
    "plt.title('Glockenspiel, different subwindows')\n",
    "\n",
    "plt.subplot(312, sharex=ax1)\n",
    "plt.title('spectrogram, window length %s pts' % NFFT)\n",
    "# Pxx is the segments x freqs array of instantaneous power, freqs is\n",
    "# the frequency vector, bins are the centers of the time bins in which\n",
    "# the power is computed, and im is the matplotlib.image.AxesImage instance\n",
    "Pxx, freqs, bins, im = plt.specgram(stsh[0].data, NFFT=NFFT, Fs=frame_rate, noverlap=noverlap,\n",
    "                                cmap=cm.jet,sides='onesided')\n",
    "#draw box\n",
    "plt.plot((lim1/frame_rate, (lim2+2000)/frame_rate), (3000, 3000), 'k-', lw=2)\n",
    "plt.plot((lim1/frame_rate, (lim2+2000)/frame_rate), (4000, 4000), 'k-', lw=2)\n",
    "plt.plot((lim1/frame_rate, lim1/frame_rate), (3000, 4000), 'k-', lw=2)\n",
    "plt.plot(((lim2+2000)/frame_rate, (lim2+2000)/frame_rate), (3000, 4000), 'k-', lw=2)\n",
    "\n",
    "#plt.ylim((0,5000))\n",
    "plt.ylabel('frequency [Hz]')\n",
    "plt.xlabel('time [s]')\n",
    "\n",
    "# show spectra calculated with different timewindows\n",
    "plt.subplot(313)\n",
    "plt.plot(f, Pxx_den, 'k', label='whole signal')\n",
    "plt.plot(f2, Pxx_den2, 'r', label='short timewindow')\n",
    "plt.plot(f3, Pxx_den3, 'g', label='longer timewindow')\n",
    "plt.plot(f4, Pxx_den4, 'b', label='longer timewindow, zero padded')\n",
    "plt.legend(loc='upper left')\n",
    "plt.xlabel('frequency [Hz]')\n",
    "plt.title(\"spectrum, zoom on box\")\n",
    "plt.xlim((3000,4000))\n",
    "plt.ylim((0,100))\n",
    "# prevent subplots overlapping\n",
    "plt.tight_layout() \n",
    "plt.show()"
   ]
  },
  {
   "cell_type": "markdown",
   "metadata": {},
   "source": [
    "### Answer to exercise 2 - part 2\n",
    "\n",
    "..."
   ]
  },
  {
   "cell_type": "markdown",
   "metadata": {},
   "source": [
    "_______________________\n",
    "\n",
    "## Exercise 3\n",
    "\n",
    "This question is about convolution of signals. You are provided with two signals. \n",
    "\n",
    "a) What is a convolution? Convolution is closely connected to a special kind of system. Which one? Describe the connection. <br> \n",
    "Using [signal.convolve](http://docs.scipy.org/doc/scipy/reference/generated/scipy.signal.convolve.html) convolve the two signals in Cell 3a. Set the mode='same'. Explain the meaning of the mode parameter. <br>\n",
    "Plot the original signals and the convolved signal. Be careful to plot the entire signal on both the x and y axes. Include labels.  \n",
    "\n",
    "b) In cell 3b, replace one of signals with a new signal that has a different shape. Convolve the signals and plot them again. Are convolutions commutative? \n",
    "\n",
    "c) In cell 3c, convolve the signals win and sig in the reverse order, continuing to use mode='same'. Replot. <br>\n",
    "Are the results the same or different from cell 2a? Explain this result. Explain any inconsistencies.\n",
    "\n",
    "d) Bonus _(optional for extra points)_: Amend the signals so that convolving them in the reverse order gives the same result as convolving them in original order. "
   ]
  },
  {
   "cell_type": "code",
   "execution_count": null,
   "metadata": {
    "collapsed": false
   },
   "outputs": [],
   "source": [
    "#Cell 3a - convolving two signals + plotting\n",
    "\n",
    "# make a box car function\n",
    "sig = np.repeat([0., 1., 0.], 100)\n",
    "# make a Hann window \n",
    "win = signal.hann(50)\n",
    "\n",
    "# convolve the signals\n",
    "\n",
    "\n"
   ]
  },
  {
   "cell_type": "code",
   "execution_count": null,
   "metadata": {
    "collapsed": true
   },
   "outputs": [],
   "source": [
    "# Cell 3b - change one signal, convolve both signals + plotting\n",
    "\n",
    "\n"
   ]
  },
  {
   "cell_type": "code",
   "execution_count": null,
   "metadata": {
    "collapsed": false
   },
   "outputs": [],
   "source": [
    "# Cell 3c - convolution in reverse order + plotting\n",
    "\n",
    "# make a box car function\n",
    "sig = np.repeat([0., 1., 0.], 100)\n",
    "# make a Hann window \n",
    "win = signal.hann(50)\n",
    "\n",
    "\n"
   ]
  },
  {
   "cell_type": "code",
   "execution_count": null,
   "metadata": {
    "collapsed": false
   },
   "outputs": [],
   "source": [
    "# Cell 3d - amend signals and convolve again (bonus)\n",
    "\n",
    "\n",
    "\n",
    "\n"
   ]
  },
  {
   "cell_type": "markdown",
   "metadata": {},
   "source": [
    "### Answer to exercise 3\n",
    "\n",
    "..."
   ]
  },
  {
   "cell_type": "markdown",
   "metadata": {},
   "source": [
    "__________________\n",
    "\n",
    "## Exercise 4\n",
    "\n",
    "\n",
    "In Cell 4a theoretical gravity data, modeled for the ringlaser location in Wettzell, are loaded. The data show a superposition of tidal effects due to different celestial bodies. Here is a short overview of the most important ones, sorted according the amplitude of their influence on Earth:\n",
    "+ tides with a period of half a day from sun, moon, Mars, Jupiter, etc. ..., period: 0.5 day \n",
    "+ tides with a period of one day from sun, moon, Mars, Jupiter, etc. ..., period: 1 days\n",
    "+ cycle of the orbit of the moon, period: 28 days\n",
    "+ equinox - sun and moon passing the equator plane, period: 186 days (about every six months)\n",
    "+ Chandler wobble (deviation of Earth's axis of rotation relative to the solid Earth), period: 433 days\n",
    "+ effects due to further planets ....\n",
    "\n",
    "\n",
    "a) In Cell 4b, calculate the spectrum of the data and plot it (as a log-log plot). Try to identify the different tidal effects and name the frequencies of their peak positions. Why is the peak for the Chandler wobble not really visible in the spectrogram? \n",
    "Hint: To calculate the spectrum, you can use the function [periodogram](http://docs.scipy.org/doc/scipy-0.13.0/reference/generated/scipy.signal.periodogram.html) of the scipy.signal package.\n",
    "\n",
    "b) In Cell 4c, try to separate the tides with periods of half and full day from the other tidal effects by filtering. Which filter do you choose and why? Plot the filtered signal for about the first 28 days.  \n",
    "Explain what happens behind the screens when applying a filter to data (in mathematical sense). \n",
    "\n",
    "c) Now, isolate the half day and full day tides separately from each other and from the rest of the data. Which filter do you choose this time and why? Plot the filtered signal for about the first 25 days on top of the filtered data from exercise 1b.  \n",
    "How can a filter be defined, in terms of responses? There are mainly three different keywords. Describe them. Why do we need three instead of only one definition?\n"
   ]
  },
  {
   "cell_type": "code",
   "execution_count": null,
   "metadata": {
    "collapsed": false
   },
   "outputs": [],
   "source": [
    "# Cell 4a - reading and plotting gravity data\n",
    "\n",
    "# read in gravity data, modeled for Wettzell, Germany. Units is in nm/s^2 vertical acceleration. \n",
    "filename = 'data/gravity.dat'\n",
    "\n",
    "# prepare to input data into obspy Stream\n",
    "data = np.loadtxt(filename, dtype='float32', comments=\"#\")\n",
    "stats = {'network': 'XX', 'station': 'WETZ', 'location': '',\n",
    "         'channel': 'XZ', 'npts': len(data), 'delta': 3600}\n",
    "\n",
    "stats['starttime'] = UTCDateTime(\"2015,01,01,00,00,00\")\n",
    "s = Stream([Trace(data=data, header=stats)])\n",
    "\n",
    "# write as MSEED file\n",
    "s.write(\"gravity.mseed\", format='MSEED')\n",
    "\n",
    "# test that it worked, read stream from file and plot\n",
    "st = read(\"gravity.mseed\")\n",
    "print(st)\n",
    "print(st[0].stats)\n",
    "#st.plot()\n",
    "\n",
    "plt.plot(st[0].times()/(3600*24), st[0].data, color='b')\n",
    "plt.xlim(0,365)\n",
    "plt.xlabel(\"time [days]\")\n",
    "plt.ylabel(\"gravity [m/s^2]\")\n",
    "plt.show()\n",
    "\n",
    "# zoom into first 35 days\n",
    "plt.plot(st[0].times()[0:800]/(3600*24), st[0].data[0:800], color='b')\n",
    "plt.xlabel(\"time [days]\")\n",
    "plt.ylabel(\"gravity [m/s^2]\")\n",
    "plt.show()"
   ]
  },
  {
   "cell_type": "code",
   "execution_count": null,
   "metadata": {
    "collapsed": false
   },
   "outputs": [],
   "source": [
    "# Cell 4b - calculate spectrum\n",
    "\n",
    "\n",
    "\n"
   ]
  },
  {
   "cell_type": "code",
   "execution_count": null,
   "metadata": {
    "collapsed": false
   },
   "outputs": [],
   "source": [
    "# Cell 4c - filtering the data\n",
    "\n",
    "\n"
   ]
  },
  {
   "cell_type": "markdown",
   "metadata": {},
   "source": [
    "___________________\n",
    "\n",
    "## Exercise 5\n",
    "\n",
    "In this question we are going to use a cross correlation technique to make a differential pick time. You are provided with two signals in the data directory: \n",
    "\n",
    "`data/seismogram_1.MSEED` <br>\n",
    "`data/seismogram_2.MSEED`\n",
    "\n",
    "seismogram_2.MSEED is noisy, and arrives later than seismogram_1.MSEED. We will use a cross-correlation with the better seismogram to make a more accurate pick of the arrival time on the noisy seismogram. \n",
    "\n",
    "For this question you should use the obspy function xcorr_pick_correction(). This is well documentated, and has good default plotting options. \n",
    "\n",
    "You are given these initial pick times. <br>\n",
    "t1 = UTCDateTime(0.335)<br>\n",
    "t2 = UTCDateTime(0.55)\n",
    "\n",
    "a) Read in the seismograms in Cell 5a. Use the function [xcorr_pick_correction](https://docs.obspy.org/packages/autogen/obspy.signal.cross_correlation.xcorr_pick_correction.html) to create a cross correlation. There is no need to filter the seismograms.  <br>\n",
    "Plot the cross correlation. Display the Time correlation and Correlation coefficient.\n",
    "\n",
    "b) What was the length of the time window you cross-correlated over? Why is this a good choice?  \n",
    "\n",
    "c) Calculate the corrected differential pick time in Cell 5b. This is the time lag between the first arrival on seismogram 1 and on seismogram 2.\n",
    "\n",
    "d) Write a short paragraph on what has been done here, and why it could be useful. \n"
   ]
  },
  {
   "cell_type": "code",
   "execution_count": null,
   "metadata": {
    "collapsed": false
   },
   "outputs": [],
   "source": [
    "# Cell 5a - crosscorrelation\n",
    "\n",
    "\n",
    "\n"
   ]
  },
  {
   "cell_type": "code",
   "execution_count": null,
   "metadata": {
    "collapsed": false
   },
   "outputs": [],
   "source": [
    "# Cell 5b - differential pick times\n",
    "\n",
    "\n"
   ]
  },
  {
   "cell_type": "markdown",
   "metadata": {},
   "source": [
    "________________\n",
    "\n",
    "## Final bonus question\n",
    "\n",
    "Between sound, tidal, and seismic/seismological data, what do you prefer to work on considering computational effort? Explain why."
   ]
  },
  {
   "cell_type": "markdown",
   "metadata": {},
   "source": [
    "### Answer to bonus question\n",
    "\n",
    "..."
   ]
  }
 ],
 "metadata": {
  "kernelspec": {
   "display_name": "Python 3",
   "language": "python",
   "name": "python3"
  },
  "language_info": {
   "codemirror_mode": {
    "name": "ipython",
    "version": 3
   },
   "file_extension": ".py",
   "mimetype": "text/x-python",
   "name": "python",
   "nbconvert_exporter": "python",
   "pygments_lexer": "ipython3",
   "version": "3.4.3"
  }
 },
 "nbformat": 4,
 "nbformat_minor": 0
}
