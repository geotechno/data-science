{
 "cells": [
  {
   "cell_type": "markdown",
   "metadata": {},
   "source": [
    "<div style=\"background-color:#009440; padding: 0px; background-size:cover; background-opacity:50%; border-radius:5px; height: 300px\">\n",
    "    <div style=\"margin: 5px; padding: 10px;\"><h1 style=\"color:#00000\">Geophysical Data Acquisition and Analysis</h1>\n",
    "    <h4 style=\"color:#dddddd\">LMU, 2 May 2016</h4>\n",
    "        <h4 style=\"color:#dddddd\">Ceri Nunn</h4>\n",
    "    </div>\n",
    "    <div style=\"float:right; margin: 10px; padding: 20px; background:rgba(255,255,255,0.7); width: 70%; height: 150px\">\n",
    "        <div style=\"position:relative; top:30%; transform: translateY(-50%)\">\n",
    "            <div style=\"font-size: x-large; font-weight:900; color:rgba(0,0,0,0.8); line-height:100%\">P03 - Observables and Instrumentation</div>\n",
    "                    </div>\n",
    "    </div>\n",
    "</div>"
   ]
  },
  {
   "cell_type": "markdown",
   "metadata": {},
   "source": [
    "The first question should be attempted by everyone. \n",
    "\n",
    "Different groups will answer the other questions."
   ]
  },
  {
   "cell_type": "markdown",
   "metadata": {},
   "source": [
    "For this exercise we will use some GPS data from the Tohoku-Oki earthquake."
   ]
  },
  {
   "cell_type": "markdown",
   "metadata": {},
   "source": [
    "## Question 1 (all groups should attempt this)"
   ]
  },
  {
   "cell_type": "markdown",
   "metadata": {},
   "source": [
    "Let's first check that you have the correct packages installed. Run the following:"
   ]
  },
  {
   "cell_type": "code",
   "execution_count": null,
   "metadata": {
    "collapsed": true
   },
   "outputs": [],
   "source": [
    "from mpl_toolkits.basemap import Basemap\n",
    "import matplotlib.pyplot as plt\n"
   ]
  },
  {
   "cell_type": "markdown",
   "metadata": {},
   "source": [
    "If you get an error message, and if you are on a Mac, try this command (from a terminal window):\n",
    "\n",
    "conda install basemap\n",
    "\n",
    "We think basemap isn't working yet for Windows. Please join another group if it doesn't work for you. "
   ]
  },
  {
   "cell_type": "markdown",
   "metadata": {},
   "source": [
    "The following piece of code uses basemap. Try running it, and then read through the options. "
   ]
  },
  {
   "cell_type": "code",
   "execution_count": null,
   "metadata": {
    "collapsed": false
   },
   "outputs": [],
   "source": [
    "%matplotlib inline\n",
    "from mpl_toolkits.basemap import Basemap\n",
    "import matplotlib.pyplot as plt\n",
    "# Set the size of the figure\n",
    "plt.figure(figsize=(12,6))\n",
    "# llcrnrlat,llcrnrlon,urcrnrlat,urcrnrlon\n",
    "# are the lat/lon values of the lower left and upper right corners\n",
    "# of the map.\n",
    "# resolution = 'c' means use crude resolution coastlines.\n",
    "m = Basemap(projection='cyl',llcrnrlat=38,urcrnrlat=58,resolution='c',\n",
    "            llcrnrlon=1.5,urcrnrlon=21.5)\n",
    "m.drawcoastlines()\n",
    "m.fillcontinents(color='coral',lake_color='aqua')\n",
    "m.drawmapboundary(fill_color='aqua')\n",
    "plt.title(\"My first basemap\")\n",
    "plt.show()"
   ]
  },
  {
   "cell_type": "markdown",
   "metadata": {},
   "source": [
    "Plot a map of Japan, with a Mercator projection, latitude from 30-46, longitude from 128-146. \n",
    "Fill continents and map boundary is not required. \n",
    "\n",
    "Title should be '\"ARIA Post and Co-seismic Displacements from Mw 9.0 Sendai-Oki Earthquake\"'.\n",
    "\n",
    "Read the documentation for Basemap to familiarise yourself with the options. \n",
    "\n",
    "http://http://matplotlib.org/basemap/api/basemap_api.html\n",
    "\n",
    "Experiment with the resolution option. "
   ]
  },
  {
   "cell_type": "markdown",
   "metadata": {},
   "source": [
    "### Solution: "
   ]
  },
  {
   "cell_type": "code",
   "execution_count": null,
   "metadata": {
    "collapsed": false
   },
   "outputs": [],
   "source": [
    "%matplotlib inline\n",
    "from mpl_toolkits.basemap import Basemap\n",
    "import matplotlib.pyplot as plt\n",
    "# Set the size of the figure\n",
    "plt.figure(figsize=(12,6))\n",
    "# llcrnrlat,llcrnrlon,urcrnrlat,urcrnrlon\n",
    "# are the lat/lon values of the lower left and upper right corners\n",
    "# of the map.\n",
    "# resolution = 'l' means use low resolution coastlines.\n",
    "m = Basemap(projection='merc',llcrnrlat=30,urcrnrlat=46,resolution='l',\n",
    "            llcrnrlon=128,urcrnrlon=146)\n",
    "m.drawcoastlines()\n",
    "plt.title(\"ARIA Post and Co-seismic Displacements from Mw 9.0 Sendai-Oki Earthquake\")\n",
    "plt.show()\n"
   ]
  },
  {
   "cell_type": "markdown",
   "metadata": {},
   "source": [
    "The following code reads in the 2 data files and displays them for you (this may be useful later, but you do not need to do anything here): "
   ]
  },
  {
   "cell_type": "code",
   "execution_count": null,
   "metadata": {
    "collapsed": false
   },
   "outputs": [],
   "source": [
    "# There are two data files\n",
    "\n",
    "# print the first 10 lines  \n",
    "f = open('Data/ARIA_coseismic_offsets.v0.3.table', 'r')\n",
    "for i, line in enumerate(f):\n",
    "    print(repr(line))\n",
    "    if i > 8:\n",
    "        break\n",
    "        \n",
    "print('')\n",
    "        \n",
    "# print the first 10 lines  \n",
    "f = open('Data/ARIA_postseismic_offsets.v0.3.table', 'r')\n",
    "for i, line in enumerate(f):\n",
    "    print(repr(line))\n",
    "    if i > 8:\n",
    "        break"
   ]
  },
  {
   "cell_type": "markdown",
   "metadata": {},
   "source": [
    "The following code reads in the data file for the coseismic data and plots it on the map. "
   ]
  },
  {
   "cell_type": "code",
   "execution_count": null,
   "metadata": {
    "collapsed": false
   },
   "outputs": [],
   "source": [
    "from mpl_toolkits.basemap import Basemap\n",
    "import matplotlib.pyplot as plt\n",
    "import numpy as np\n",
    "\n",
    "# Preliminary GPS early postseismic displacement data (version 0.3) for March 11, 2011 M9 Japanese earthquake\n",
    "# Provided by the ARIA team at JPL and Caltech.\n",
    "# All Original GEONET RINEX data provided to Caltech by the Geospatial Information Authority (GSI) of Japan.\n",
    "# Calculated by ARIA team, created March 12, 2011 using Rapid Orbits\n",
    "# Displacements are difference between solution  at 5:55 and 14:00 UTC, based on 5 min solutions\n",
    "\n",
    "# Set the size of the figure\n",
    "plt.figure(figsize=(12,6))\n",
    "\n",
    "# llcrnrlat,llcrnrlon,urcrnrlat,urcrnrlon\n",
    "# are the lat/lon values of the lower left and upper right corners\n",
    "# of the map.\n",
    "# resolution = 'l' means use low resolution coastlines.\n",
    "# resolution = 'c' means crude resolution\n",
    "m = Basemap(projection='merc',llcrnrlat=30,urcrnrlat=46,resolution='c',\n",
    "            llcrnrlon=128,urcrnrlon=146)\n",
    "m.drawcoastlines()\n",
    "plt.title(\"ARIA Coseismic Displacements from Mw 9.0 Sendai-Oki Earthquake\")\n",
    "\n",
    "a_lon = []\n",
    "a_lat = []\n",
    "a_east = []\n",
    "a_north = []\n",
    "\n",
    "# read in the coseismic data\n",
    "f = open('Data/ARIA_coseismic_offsets.v0.3.table', 'r')\n",
    "# skip the first SEVEN lines \n",
    "for _ in range(7):\n",
    "    next(f)\n",
    "for line in f:\n",
    "#     split the line and read into the variables \n",
    "    lon, lat, east, north, vert, sigma, site, _ =  line.split('  ')\n",
    "    a_lon.append(lon)\n",
    "    a_lat.append(lat)\n",
    "    a_east.append(east)\n",
    "    a_north.append(north)\n",
    "\n",
    "# make numpy arrays from the data     \n",
    "a_lon = np.array(a_lon,dtype='float32')\n",
    "a_lat = np.array(a_lat,dtype='float32')\n",
    "a_east = np.array(a_east,dtype='float32')\n",
    "a_north = np.array(a_north,dtype='float32')\n",
    "\n",
    "# transform the latitude and longitude to the correct projection with \n",
    "# basemap \n",
    "x,y=m(a_lon,a_lat)\n",
    "\n",
    "# plot vectors  \n",
    "Q = m.quiver(x,y,a_east,a_north,color='r',pivot='tip')\n",
    "qk = plt.quiverkey(Q, 0.5, 0.1, 1, '1 m', labelpos='W')\n",
    "\n",
    "plt.show()"
   ]
  },
  {
   "cell_type": "markdown",
   "metadata": {},
   "source": [
    "In the code above, change the following: \n",
    "    Use the tail of the GPS vector, rather than the tip (the way it is currently plotted implies that a lot of the GPS devices are offshore)\n",
    "    Increase the coastline resolution. \n",
    "    \n",
    "You may find the documentation useful:    \n",
    "    http://matplotlib.org/mpl_toolkits/mplot3d/api.html\n",
    "    \n",
    "    "
   ]
  },
  {
   "cell_type": "code",
   "execution_count": null,
   "metadata": {
    "collapsed": false
   },
   "outputs": [],
   "source": [
    "from mpl_toolkits.basemap import Basemap\n",
    "import matplotlib.pyplot as plt\n",
    "import numpy as np\n",
    "\n",
    "# Preliminary GPS early postseismic displacement data (version 0.3) for March 11, 2011 M9 Japanese earthquake\n",
    "# Provided by the ARIA team at JPL and Caltech.\n",
    "# All Original GEONET RINEX data provided to Caltech by the Geospatial Information Authority (GSI) of Japan.\n",
    "# Calculated by ARIA team, created March 12, 2011 using Rapid Orbits\n",
    "# Displacements are difference between solution  at 5:55 and 14:00 UTC, based on 5 min solutions\n",
    "\n",
    "# Set the size of the figure\n",
    "plt.figure(figsize=(12,6))\n",
    "\n",
    "# llcrnrlat,llcrnrlon,urcrnrlat,urcrnrlon\n",
    "# are the lat/lon values of the lower left and upper right corners\n",
    "# of the map.\n",
    "# resolution = 'l' means use low resolution coastlines.\n",
    "# resolution = 'c' means crude resolution\n",
    "m = Basemap(projection='merc',llcrnrlat=30,urcrnrlat=46,resolution='l',\n",
    "            llcrnrlon=128,urcrnrlon=146)\n",
    "m.drawcoastlines()\n",
    "plt.title(\"ARIA Coseismic Displacements from Mw 9.0 Sendai-Oki Earthquake\")\n",
    "\n",
    "a_lon = []\n",
    "a_lat = []\n",
    "a_east = []\n",
    "a_north = []\n",
    "\n",
    "f = open('Data/ARIA_coseismic_offsets.v0.3.table', 'r')\n",
    "# skip the first SEVEN lines \n",
    "for _ in range(7):\n",
    "    next(f)\n",
    "for line in f:\n",
    "#     split the line and read into the variables \n",
    "    lon, lat, east, north, vert, sigma, site, _ =  line.split('  ')\n",
    "    a_lon.append(lon)\n",
    "    a_lat.append(lat)\n",
    "    a_east.append(east)\n",
    "    a_north.append(north)\n",
    "\n",
    "# make numpy arrays from the data     \n",
    "a_lon = np.array(a_lon,dtype='float32')\n",
    "a_lat = np.array(a_lat,dtype='float32')\n",
    "a_east = np.array(a_east,dtype='float32')\n",
    "a_north = np.array(a_north,dtype='float32')\n",
    "\n",
    "# transform the latitude and longitude to the correct projection with \n",
    "# basemap \n",
    "x,y=m(a_lon,a_lat)\n",
    "\n",
    "# And then plot vectors  \n",
    "Q = m.quiver(x,y,a_east,a_north,color='r',pivot='tail')\n",
    "qk = plt.quiverkey(Q, 0.5, 0.1, 1, 'Coseismic 1 m', labelpos='W')\n",
    "\n",
    "# repeat for postseismic displacement \n",
    "\n",
    "plt.title(\"ARIA Coseismic and Postseismic Displacements from Mw 9.0 Sendai-Oki Earthquake\")\n",
    "\n",
    "a_lon = []\n",
    "a_lat = []\n",
    "a_east = []\n",
    "a_north = []\n",
    "\n",
    "f = open('Data/ARIA_postseismic_offsets.v0.3.table', 'r')\n",
    "# skip the first SIX lines \n",
    "for _ in range(6):\n",
    "    next(f)\n",
    "for line in f:\n",
    "#     split the line and read into the variables \n",
    "    lon, lat, east, north, vert, sigma, site, _ =  line.split('  ')\n",
    "    a_lon.append(lon)\n",
    "    a_lat.append(lat)\n",
    "    a_east.append(east)\n",
    "    a_north.append(north)\n",
    "\n",
    "# make numpy arrays from the data     \n",
    "a_lon = np.array(a_lon,dtype='float32')\n",
    "a_lat = np.array(a_lat,dtype='float32')\n",
    "a_east = np.array(a_east,dtype='float32')\n",
    "a_north = np.array(a_north,dtype='float32')\n",
    "\n",
    "# transform the latitude and longitude to the correct projection with \n",
    "# basemap \n",
    "x,y=m(a_lon,a_lat)\n",
    "\n",
    "# And then plot vectors  \n",
    "Q = m.quiver(x,y,a_east,a_north,color='b',pivot='tail')\n",
    "qk = plt.quiverkey(Q, 0.5, 0.07, 1, 'Postseismic 1 m', labelpos='W')\n",
    "\n",
    "plt.show()"
   ]
  },
  {
   "cell_type": "markdown",
   "metadata": {},
   "source": [
    "## Questions\n",
    "\n",
    "The GPS data are calculated relative to North America. \n",
    "\n",
    "1) Which way did the fault move?\n",
    "\n",
    "2) Is the post seismic movement generally in the same direction as the coseismic?\n",
    "\n",
    "3) Estimate the maximum coseismic slip and the maximum postseismic slip.\n",
    "\n",
    "4) Can you estimate the earthquake hypocenter."
   ]
  },
  {
   "cell_type": "markdown",
   "metadata": {},
   "source": [
    "### Solution"
   ]
  },
  {
   "cell_type": "markdown",
   "metadata": {},
   "source": [
    "1) The trench runs down the eastern side of Japan. The Pacific Plate is subducting beneath Japan. The Pacifc Plate moved westwards. \n",
    "\n",
    "2) Yes, the postseismic movement is generally in the same direction as the coseismic. There were a lot of aftershocks to the south, which explains why the maximum postseismic displacement is generally further south. \n",
    "\n",
    "3) The maximum co-seismic slip is around 5 m and the maximum post-seismic slip is around 0.5 m.  \n",
    "\n",
    "4) The hypocenter is east of Japan. Its north/south location is where the coseismic GPS vectors are the largest. (To see whether you were correct, look at the solution to Option 1). "
   ]
  },
  {
   "cell_type": "markdown",
   "metadata": {
    "collapsed": true
   },
   "source": [
    "## Option 1"
   ]
  },
  {
   "cell_type": "markdown",
   "metadata": {},
   "source": [
    "Get all the mainshock and the aftershocks from IRIS. Add to our basemap plot.\n",
    "\n",
    "Hints: \n",
    "\n",
    "Include all the code so far to plot the basemap.\n",
    "\n",
    "Use the code from week 1 to find the events. \n",
    "\n",
    "Loop through the event origins  in the catalog. Make a list from origin.latitude and origin.longitude.\n",
    "\n",
    "Transform to the basemap projection - this will look something like this: \n",
    "\n",
    "    x,y=m(longitudes,latitudes)\n",
    "\n",
    "Plot on the basemap with m.scatter().\n"
   ]
  },
  {
   "cell_type": "markdown",
   "metadata": {},
   "source": [
    "Solution:"
   ]
  },
  {
   "cell_type": "markdown",
   "metadata": {},
   "source": [
    "Using the code from week 1, we can get the relevant shocks. I took 1 month of data above magnitude 6. \n",
    "But other lengths of time or minimum magnitude would be equally acceptable. \n",
    "\n"
   ]
  },
  {
   "cell_type": "code",
   "execution_count": null,
   "metadata": {
    "collapsed": false
   },
   "outputs": [],
   "source": [
    "%matplotlib inline\n",
    "from mpl_toolkits.basemap import Basemap\n",
    "import matplotlib.pyplot as plt\n",
    "from obspy.clients.fdsn import Client\n",
    "import numpy as np\n",
    "\n",
    "# Set the size of the figure\n",
    "fig = plt.figure(figsize=(20,12))\n",
    "ax = fig.add_axes([0.1,0.1,0.8,0.8])\n",
    "\n",
    "\n",
    "# Preliminary GPS early postseismic displacement data (version 0.3) for March 11, 2011 M9 Japanese earthquake\n",
    "# Provided by the ARIA team at JPL and Caltech.\n",
    "# All Original GEONET RINEX data provided to Caltech by the Geospatial Information Authority (GSI) of Japan.\n",
    "# Calculated by ARIA team, created March 12, 2011 using Rapid Orbits\n",
    "# Displacements are difference between solution  at 5:55 and 14:00 UTC, based on 5 min solutions\n",
    "\n",
    "\n",
    "# llcrnrlat,llcrnrlon,urcrnrlat,urcrnrlon\n",
    "# are the lat/lon values of the lower left and upper right corners\n",
    "# of the map.\n",
    "# resolution = 'l' means use low resolution coastlines.\n",
    "# resolution = 'c' means crude resolution\n",
    "m = Basemap(projection='merc',llcrnrlat=30,urcrnrlat=46,resolution='l',\n",
    "            llcrnrlon=128,urcrnrlon=146)\n",
    "\n",
    "\n",
    "m.drawcoastlines()\n",
    "plt.title(\"ARIA Coseismic Displacements from Mw 9.0 Sendai-Oki Earthquake\")\n",
    "\n",
    "a_lon = []\n",
    "a_lat = []\n",
    "a_east = []\n",
    "a_north = []\n",
    "\n",
    "f = open('Data/ARIA_coseismic_offsets.v0.3.table', 'r')\n",
    "# skip the first SEVEN lines \n",
    "for _ in range(7):\n",
    "    next(f)\n",
    "for line in f:\n",
    "#     split the line and read into the variables \n",
    "    lon, lat, east, north, vert, sigma, site, _ =  line.split('  ')\n",
    "    a_lon.append(lon)\n",
    "    a_lat.append(lat)\n",
    "    a_east.append(east)\n",
    "    a_north.append(north)\n",
    "\n",
    "# make numpy arrays from the data     \n",
    "a_lon = np.array(a_lon,dtype='float32')\n",
    "a_lat = np.array(a_lat,dtype='float32')\n",
    "a_east = np.array(a_east,dtype='float32')\n",
    "a_north = np.array(a_north,dtype='float32')\n",
    "\n",
    "# transform the latitude and longitude to the correct projection with \n",
    "# basemap \n",
    "x,y=m(a_lon,a_lat)\n",
    "\n",
    "# And then plot vectors  \n",
    "Q = m.quiver(x,y,a_east,a_north,color='r',pivot='tail')\n",
    "qk = plt.quiverkey(Q, 0.5, 0.1, 1, 'Coseismic 1 m', labelpos='W')\n",
    "\n",
    "# repeat for postseismic displacement \n",
    "\n",
    "plt.title(\"ARIA Coseismic and Postseismic Displacements from Mw 9.0 Sendai-Oki Earthquake\")\n",
    "\n",
    "a_lon = []\n",
    "a_lat = []\n",
    "a_east = []\n",
    "a_north = []\n",
    "\n",
    "f = open('Data/ARIA_postseismic_offsets.v0.3.table', 'r')\n",
    "# skip the first SIX lines \n",
    "for _ in range(6):\n",
    "    next(f)\n",
    "for line in f:\n",
    "#     split the line and read into the variables \n",
    "    lon, lat, east, north, vert, sigma, site, _ =  line.split('  ')\n",
    "    a_lon.append(lon)\n",
    "    a_lat.append(lat)\n",
    "    a_east.append(east)\n",
    "    a_north.append(north)\n",
    "\n",
    "# make numpy arrays from the data     \n",
    "a_lon = np.array(a_lon,dtype='float32')\n",
    "a_lat = np.array(a_lat,dtype='float32')\n",
    "a_east = np.array(a_east,dtype='float32')\n",
    "a_north = np.array(a_north,dtype='float32')\n",
    "\n",
    "# transform the latitude and longitude to the correct projection with \n",
    "# basemap \n",
    "x,y=m(a_lon,a_lat)\n",
    "\n",
    "# And then plot vectors  \n",
    "Q = m.quiver(x,y,a_east,a_north,color='b',pivot='tail')\n",
    "qk = plt.quiverkey(Q, 0.5, 0.07, 1, 'Postseismic 1 m', labelpos='W')\n",
    "\n",
    "# this is the new code to answer Option 1\n",
    "\n",
    "# IRIS is the biggest seismological data center, based in the US\n",
    "client_iris = Client(\"IRIS\")\n",
    "\n",
    "# get the mainshock and the aftershocks\n",
    "catalog = client_iris.get_events(minlatitude=30,maxlatitude=46,minlongitude=128,\n",
    "    maxlongitude=146,minmagnitude=6,starttime=\"2011-03-11T05:46:23\",endtime=\"2011-04-11\")\n",
    "\n",
    "print(catalog)\n",
    "\n",
    "# make empty lists\n",
    "latitudes = []\n",
    "longitudes = []\n",
    "\n",
    "# using the catalog \n",
    "for event in catalog: \n",
    "    for origin in event.origins:\n",
    "        latitudes.append(origin.latitude)\n",
    "        longitudes.append(origin.longitude)\n",
    "        \n",
    "\n",
    "# THIS IS AN IMPORTANT STEP, AND EASILY MISSED/MISUNDERSTOOD         \n",
    "# transform the latitude and longitude to the correct projection with \n",
    "# basemap        \n",
    "x,y=m(longitudes,latitudes)\n",
    "\n",
    "# plot the earthquake hypocenter        \n",
    "m.scatter(x,y,color='g',s=30) \n",
    "\n",
    "# optionally, print the mainshock in a different colour\n",
    "# you could search again, or use the information from catalog.print()\n",
    "x,y=m(142.498,38.296)\n",
    "m.scatter(x,y,color='k',s=30) \n",
    "\n",
    "# draw parallels and meridians.\n",
    "# label parallels on right and top\n",
    "# meridians on bottom and left\n",
    "parallels = np.arange(30.,46,10.)\n",
    "# labels = [left,right,top,bottom]\n",
    "m.drawparallels(parallels,labels=[True,False,False,False])\n",
    "meridians = np.arange(130.,150.,10.)\n",
    "m.drawmeridians(meridians,labels=[True,False,False,True])\n",
    "   \n",
    "plt.show()\n",
    "\n"
   ]
  },
  {
   "cell_type": "markdown",
   "metadata": {},
   "source": [
    "## Option 2\n",
    "\n",
    "View the focal mechanisms for the mainshock and the aftershocks (use a website). \n",
    "Also find out how far the fault is thought to have moved.\n"
   ]
  },
  {
   "cell_type": "markdown",
   "metadata": {},
   "source": [
    "I used the Global GMT solution catalog at http://www.globalcmt.org/CMTsearch.html. \n",
    "\n",
    "The moment tensor for the main shock indicates a west-dipping, low angle fault (of 10 degrees).\n",
    "\n",
    "The moment tensors for the aftershocks show a wide variety of mechanisms. \n",
    "\n",
    "This paper suggested that the sea floor moved 50 m:\n",
    "\n",
    "    Fujiwara, T. et al. The 2011 Tohoku-Oki Earthquake: Displacement Reaching the Trench Axis. Science 334, 1240–1240 (2011).\n",
    "\n",
    "Other reports are lower, but it is likely that this is the largest co-seismic displacement \n",
    "ever recorded. "
   ]
  },
  {
   "cell_type": "markdown",
   "metadata": {},
   "source": [
    "201103110546A NEAR EAST COAST OF HONSH\n",
    "\n",
    "  Date: 2011/ 3/11   Centroid Time:  5:47:32.8 GMT\n",
    "  Lat=  37.52  Lon= 143.05\n",
    "  Depth= 20.0   Half duration=70.0\n",
    "  Centroid time minus hypocenter time: 69.8\n",
    "  Moment Tensor: Expo=29  1.730 -0.281 -1.450 2.120 4.550 -0.657 \n",
    "  Mw = 9.1    mb = 7.9    Ms = 7.9   Scalar Moment = 5.31e+29\n",
    "  Fault plane:  strike=203    dip=10   slip=88\n",
    "  Fault plane:  strike=25    dip=80   slip=90"
   ]
  },
  {
   "cell_type": "markdown",
   "metadata": {},
   "source": [
    "![title](Data/Tohoku_moment_tensor.png)"
   ]
  },
  {
   "cell_type": "markdown",
   "metadata": {},
   "source": [
    "## Option 3 "
   ]
  },
  {
   "cell_type": "markdown",
   "metadata": {},
   "source": [
    "Read in the data and find the maximum GPS displacement for the coseismic movement. \n",
    "\n",
    "Hint: Use the code which reads in the table as a starting point. And the built-in python method max() which was explained in week 1. You will need to loop through the data. You may also find the python function zip() useful. \n",
    "\n",
    "Also find out how far the fault is thought to have moved (using a literature search).\n",
    "\n",
    "Can you explain the difference bewteen the GPS movement and the fault movement. "
   ]
  },
  {
   "cell_type": "markdown",
   "metadata": {},
   "source": [
    "### Solution"
   ]
  },
  {
   "cell_type": "code",
   "execution_count": null,
   "metadata": {
    "collapsed": false
   },
   "outputs": [],
   "source": [
    "import math\n",
    "\n",
    "# Taking the example code as a starting point: \n",
    "\n",
    "a_lon = []\n",
    "a_lat = []\n",
    "a_east = []\n",
    "a_north = []\n",
    "\n",
    "\n",
    "f = open('Data/ARIA_coseismic_offsets.v0.3.table', 'r')\n",
    "# skip the first SEVEN lines \n",
    "for _ in range(7):\n",
    "    next(f)\n",
    "for line in f:\n",
    "#     split the line and read into the variables \n",
    "    lon, lat, east, north, vert, sigma, site, _ =  line.split('  ')\n",
    "    a_lon.append(lon)\n",
    "    a_lat.append(lat)\n",
    "    a_east.append(east)\n",
    "    a_north.append(north)\n",
    "\n",
    "# make numpy arrays from the data     \n",
    "a_lon = np.array(a_lon,dtype='float32')\n",
    "a_lat = np.array(a_lat,dtype='float32')\n",
    "a_east = np.array(a_east,dtype='float32')\n",
    "a_north = np.array(a_north,dtype='float32')\n",
    "\n",
    "# create some empty lists \n",
    "v_list = []\n",
    "v_list2 = []\n",
    "\n",
    "# iterate through both numpy arrays with the handy 'zip' fuction\n",
    "for a1, a2 in zip(a_north,a_east):\n",
    "    # calcuate the magnitude of the vector    \n",
    "    v = math.sqrt(a1**2 + a2**2)\n",
    "    # append it to a list    \n",
    "    v_list.append(v)\n",
    "    #print (a1, a2, v_list[-1])\n",
    "\n",
    "# print with the max function\n",
    "print(max(v_list))\n",
    "\n",
    "# print with the max function, but only display 2 decimal places \n",
    "print (\"{:.2f}\".format(max(v_list)))\n",
    "\n",
    "# Another option is to use the numpy.linalg.norm() method for calculating the vector\n",
    "    "
   ]
  },
  {
   "cell_type": "markdown",
   "metadata": {},
   "source": [
    "The maximum displacement on the GPS sensors was 5.24 m in the coseismic. \n",
    "The maximum displacement on the fault may have been as much as 50 m (see the answer to\n",
    "option 2). \n",
    "The GPS sites were onshore, and the fault movement was offshore. "
   ]
  },
  {
   "cell_type": "markdown",
   "metadata": {},
   "source": [
    "## Option 4 "
   ]
  },
  {
   "cell_type": "markdown",
   "metadata": {},
   "source": [
    "The following is an image of the GPS field across the Himalaya, the Tibetan Plateau and China. It is plotted relative to stable Eurasia. It is reproduced from Gan 2007, 'Present-day crustal motion within the Tibetan Plateau inferred from GPS measurements'.\n",
    "\n",
    "<img src=\"Data/Gan_gps_velocity_field.jpg\">"
   ]
  },
  {
   "cell_type": "markdown",
   "metadata": {},
   "source": [
    "The longest vectors are just to the south of the Himalaya. These respresent the motion of India - approximately 4 cm/yr, NNE.\n",
    "\n",
    "1) Where is the greatest displacement? Which direction is the motion? Describe the difference between the motion to the south of the Himalaya, \n",
    "with that immediately north of the mountain front. \n",
    "\n",
    "2) Look at the south-east corner of the box. What is happening? \n",
    "\n",
    "3) Sketch (very roughly) the GPS field from the perspective of an observer on the Indian subcontinent."
   ]
  },
  {
   "cell_type": "markdown",
   "metadata": {},
   "source": [
    "### Solution"
   ]
  },
  {
   "cell_type": "markdown",
   "metadata": {},
   "source": [
    "1) The greatest displacement is in India itself, and then across the large faults along the \n",
    "Himalayan Mountain front. The vectors within the Himalaya are a bit shorter than the vectors immediately to the south. This indicates that the Himalaya is taking up a considerable amount of shortening caused by the collision. \n",
    "India is moving NNE at a rate of approximately 40 mm/year. \n",
    "The Tibetan Plateau is moving eastwards to accomodate the motion. \n",
    "\n",
    "2) In the south east corner, the crust is moving southwards. There is some evidence that the crust is flowing out between the mountains - again to accommodate the motion of India. \n",
    "\n",
    "3) Now that India is a reference point, all the other points have a southwards compoment of motion. Those with the smallest southward compoment are within the Himalaya, which is taking a large part of the shortening.\n",
    "![Sketch](Data/TibetSketch.jpg)\n",
    "\n",
    "Thanks to the group who worked on this, who spotted that the vector within India (at 23N 77E) is shorter than the vectors across the Himalaya. This caused some confusion, because it implies that the Himalaya are shortening at a \n",
    "faster rate than the motion of India!\n",
    "\n",
    "Your sketch should contain: \n",
    "\n",
    "an outline of the area, with labels\n",
    "\n",
    "a representative sample of vectors\n",
    "\n",
    "(there is no need to plot the original vectors - this is just done for clarity)"
   ]
  },
  {
   "cell_type": "code",
   "execution_count": null,
   "metadata": {
    "collapsed": true
   },
   "outputs": [],
   "source": []
  }
 ],
 "metadata": {
  "kernelspec": {
   "display_name": "Python 3",
   "language": "python",
   "name": "python3"
  },
  "language_info": {
   "codemirror_mode": {
    "name": "ipython",
    "version": 3
   },
   "file_extension": ".py",
   "mimetype": "text/x-python",
   "name": "python",
   "nbconvert_exporter": "python",
   "pygments_lexer": "ipython3",
   "version": "3.5.1"
  }
 },
 "nbformat": 4,
 "nbformat_minor": 0
}
