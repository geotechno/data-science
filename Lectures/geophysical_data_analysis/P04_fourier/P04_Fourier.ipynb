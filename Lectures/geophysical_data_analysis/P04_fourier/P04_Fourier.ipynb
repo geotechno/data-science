{
 "cells": [
  {
   "cell_type": "markdown",
   "metadata": {},
   "source": [
    "<div style=\"background-color:#009440; padding: 0px; background-size:cover; background-opacity:50%; border-radius:5px; height:300px\">\n",
    "    <div style=\"margin: 5px; padding: 10px;\">\n",
    "    <h1 style=\"color:#00000\">Geophysical Data Acquisition and Analysis</h1>\n",
    "    <h5 style=\"color:#C0C0C0\">LMU, 9 May 2016</h5>\n",
    "    <h4 style=\"color:rgba(0,0,0,0.6)\">Stefanie Donner, Céline Hadziioannou, Ceri Nunn</h4>\n",
    "    </div>\n",
    "    <div style=\"float:right; margin: 20px; padding: 20px; background:rgba(255,255,255,0.7); width: 70%; height: 100px\">\n",
    "        <div style=\"position:relative; top:40%; transform: translateY(-50%)\">\n",
    "        <div style=\"font-size: x-large; font-weight:900; color:rgba(0,0,0,0.8); line-height:100%\">P04 - Fourier series & transformation</div>\n",
    "        </div>\n",
    "    </div>\n",
    "</div>"
   ]
  },
  {
   "cell_type": "markdown",
   "metadata": {},
   "source": [
    "**Please, do not forget to execute the Cell 1 first!**"
   ]
  },
  {
   "cell_type": "code",
   "execution_count": null,
   "metadata": {
    "collapsed": false,
    "scrolled": true
   },
   "outputs": [],
   "source": [
    "# Cell 1: Preparation for programming\n",
    "\n",
    "%pylab inline\n",
    "from __future__ import print_function\n",
    "import numpy as np\n",
    "import matplotlib.pylab as plt\n",
    "plt.style.use('ggplot')\n",
    "plt.rcParams['figure.figsize'] = 12, 8"
   ]
  },
  {
   "cell_type": "markdown",
   "metadata": {},
   "source": [
    "### Exercise 1: Calculating the coefficients of a Fourier series"
   ]
  },
  {
   "cell_type": "markdown",
   "metadata": {},
   "source": [
    "This exercise is dedicated to the understanding of Fourier series and its construction from coefficients. \n",
    "Read the data of an arbitrary periodic function from the local file \"`./data/XX.DUMM..BHZ.mseed`\". Please, do not get confused by the naming of the file or the entries in the `stats` container, it is NO seismogram, just an arbitrary periodic function.\n",
    "\n",
    "a) Try to understand the code of Cell 2 and execute the Cell.\n",
    "\n",
    "b) Load the data, find the period of the function, and plot the function in Cell 3. \n",
    "\n",
    "c) Determine the first 5 coefficients for the function and print them in Cell 4.\n",
    "\n",
    "d) Try to understand the code of Cell 5 and execute the Cell.\n",
    "\n",
    "e) Try to set-up to original function again using the function in Cell 5 and the coefficients you have determined in Cell 4. Plot it. Why does it look different?\n",
    "\n",
    "f) Repeat step c) and e) and play around with the number of coefficients, e.g. putting it higher. Is there a number from which the reconstructed function does not change anymore? Can you guess why?"
   ]
  },
  {
   "cell_type": "code",
   "execution_count": null,
   "metadata": {
    "collapsed": false
   },
   "outputs": [],
   "source": [
    "# Cell 2: Defining function for retrieving Fourier coefficients \n",
    "\n",
    "def fourier_series_coeff(f, T, N):\n",
    "    \"\"\"Calculates the first 2*N+1 Fourier series coeff. of a periodic function.\n",
    "\n",
    "    Given a periodic, function f(t) with period T, this function returns the\n",
    "    coefficients a0, {a1,a2,...},{b1,b2,...} such that:\n",
    "\n",
    "    f(t) ~= a0/2+ sum_{k=1}^{N} ( a_k*cos(2*pi*k*t/T) + b_k*sin(2*pi*k*t/T) )\n",
    "    \n",
    "    Parameters\n",
    "    ----------\n",
    "    f : the periodic function, a callable like f(t)\n",
    "    T : the period of the function f, so that f(0)==f(T)\n",
    "    N_max : the function will return the first N_max + 1 Fourier coeff.\n",
    "\n",
    "    Returns\n",
    "    -------\n",
    "    a0 : float\n",
    "    a,b : numpy float arrays describing respectively the cosine and sine coeff.\n",
    "    \"\"\"\n",
    "    # From Nyquist theoreom (which we will learn later) we must use a sampling \n",
    "    # freq. larger than the maximum frequency you want to catch in the signal. \n",
    "    # In this case, we know in advance that it is 50 Hz because we are \n",
    "    # manufacturing the signal.\n",
    "    f_sample = 2 * N\n",
    "    \n",
    "    # We also need to use an integer sampling frequency, or the\n",
    "    # points will not be equispaced between 0 and 1. We then add +2 to f_sample.\n",
    "    t, dt = np.linspace(0, T, f_sample + 2, endpoint=False, retstep=True)\n",
    "    #y = np.fft.rfft(f(t)) / t.size\n",
    "    y = np.fft.rfft(f) / t.size\n",
    "    \n",
    "    y *= 2\n",
    "    #return y[0].real, y[1:-1].real, -y[1:-1].imag\n",
    "    return y[0].real, y[1:-1].real[0:N], -y[1:-1].imag[0:N]"
   ]
  },
  {
   "cell_type": "code",
   "execution_count": null,
   "metadata": {
    "collapsed": false
   },
   "outputs": [],
   "source": [
    "# Eamxple to function in cell 2 \n",
    "# sawtooth function f(t) = A * (t/T)  with 0 < t < T \n",
    "# A 5 Hz waveform sampled at 500 Hz for 1 second\n",
    "from scipy import signal\n",
    "# set up sawtooth function\n",
    "s = 1.0\n",
    "f1 = 5.\n",
    "f2 = 500.\n",
    "t = np.linspace(0, s, f2)\n",
    "saw = signal.sawtooth(2 * np.pi * f1 * t)\n",
    "plt.xlabel('time')\n",
    "plt.ylabel('amplitude')\n",
    "plt.plot(t, saw)\n",
    "\n",
    "# get the first 3 coefficients of Fourier series for sawtooth function\n",
    "No = 3\n",
    "T = 5.\n",
    "a0, a, b = fourier_series_coeff(saw, T, No)\n",
    "print(a0)\n",
    "print(a)\n",
    "print(b)"
   ]
  },
  {
   "cell_type": "code",
   "execution_count": null,
   "metadata": {
    "collapsed": false
   },
   "outputs": [],
   "source": [
    "# Cell 3: Load data + find period + plot function\n",
    "from obspy import read\n",
    "\n",
    "st = \n",
    "tr = \n",
    "period = \n",
    "frequency = \n",
    "\n"
   ]
  },
  {
   "cell_type": "code",
   "execution_count": null,
   "metadata": {
    "collapsed": false
   },
   "outputs": [],
   "source": [
    "# Cell 4: Determine the first 5 coefficients of the function\n",
    "\n",
    "\n"
   ]
  },
  {
   "cell_type": "code",
   "execution_count": null,
   "metadata": {
    "collapsed": true
   },
   "outputs": [],
   "source": [
    "# Cell 5: creating periodic function from given coefficients using the Fourier series\n",
    "def series_real_coeff(a0, a, b, t, T):\n",
    "    \"\"\"calculates the Fourier series with period T at times t,\n",
    "       from the real coeff. a0,a,b\"\"\"\n",
    "    tmp = ones_like(t) * a0 / 2.\n",
    "    for k, (ak, bk) in enumerate(zip(a, b)):\n",
    "        tmp += ak * cos(2 * pi * (k + 1) * t / T) + bk * sin(\n",
    "            2 * pi * (k + 1) * t / T)\n",
    "    return tmp"
   ]
  },
  {
   "cell_type": "code",
   "execution_count": null,
   "metadata": {
    "collapsed": false
   },
   "outputs": [],
   "source": [
    "# Cell 6: set-up original function and plot it\n",
    "\n",
    "\n"
   ]
  },
  {
   "cell_type": "markdown",
   "metadata": {},
   "source": [
    "<br />\n",
    "<br />\n",
    "<br />"
   ]
  },
  {
   "cell_type": "markdown",
   "metadata": {},
   "source": [
    "### Exercise 2: Convergence of Fourier Series"
   ]
  },
  {
   "cell_type": "markdown",
   "metadata": {},
   "source": [
    "This exercise is dedicated to the understanding of the convergence of Fourier series. The following code defines a square wave and then approximates it by its Fourier series.\n",
    "\n",
    "a) Try to understand the code of Cell 7 and execute it. Have a look at the figure.\n",
    "\n",
    "b) Change the period T in the cell and run it again. Describe what you observe and try to explain it.\n",
    "\n",
    "b) Change the number of hamonics and run the cell again. Describe what you observe and try to explain it."
   ]
  },
  {
   "cell_type": "code",
   "execution_count": null,
   "metadata": {
    "collapsed": false
   },
   "outputs": [],
   "source": [
    "# Cell 7: approximating the square wave by its Fourier series with varying resolution\n",
    "\n",
    "# Setup\n",
    "x = np.linspace(-20,20,10000)  # x-Achsis\n",
    "T = 8                          # period, inital value: 8\n",
    "harmonics = 10                 # number of harmonics, initial value: 10\n",
    "\n",
    "def squareWave(x):\n",
    "    global T\n",
    "    lowerBoundLeft = (-T/2)\n",
    "    lowerBoundRight = 0\n",
    "    upperBoundLeft = 0\n",
    "    upperBoundRight = (T/2)\n",
    "    one = 1\n",
    "    negativeOne = -1\n",
    "    \n",
    "    while True:\n",
    "        if (x >= lowerBoundLeft) and (x <= lowerBoundRight):\n",
    "            return negativeOne\n",
    "        elif (x >= upperBoundLeft) and (x <= upperBoundRight):\n",
    "            return one\n",
    "        else:\n",
    "            lowerBoundLeft -= T/2\n",
    "            lowerBoundRight -= T/2\n",
    "            upperBoundLeft += T/2\n",
    "            upperBoundRight += T/2\n",
    "            if one == 1:\n",
    "                one = -1\n",
    "                negativeOne = 1\n",
    "            else:\n",
    "                one = 1\n",
    "                negativeOne = -1\n",
    "\n",
    "# define An coefficients\n",
    "def an(n):\n",
    "    n = int(n)\n",
    "    if (n%2 != 0):\n",
    "        return 4/(np.pi*n)\n",
    "    else:\n",
    "        return 0\n",
    "# define Bn coefficients\n",
    "def bn(n):\n",
    "    global T\n",
    "    bn = (2*np.pi*n)/T\n",
    "    return bn\n",
    "\n",
    "# define Fourier Series function\n",
    "def fourierSeries(n_max,x):\n",
    "    a0 = 0\n",
    "    partialSums = a0\n",
    "    for n in range(1,n_max):\n",
    "        try:\n",
    "            partialSums = partialSums + an(n)*np.sin(bn(n)*x)\n",
    "        except:\n",
    "            print(\"pass\")\n",
    "            pass\n",
    "    return partialSums\n",
    "\n",
    "y = []\n",
    "f = []\n",
    "for i in x:\n",
    "    y.append(squareWave(i))\n",
    "    f.append(fourierSeries(harmonics,i))\n",
    "\n",
    "# plotting the results\n",
    "plt.plot(x,y,color=\"blue\",label=\"Signal\")\n",
    "plt.plot(x,f,color=\"red\",label=\"Fourier series approximation\")\n",
    "plt.title(\"Fourier Series approximation - Number of harmonics: \"+str(harmonics))\n",
    "plt.legend()\n",
    "plt.show()\n"
   ]
  }
 ],
 "metadata": {
  "kernelspec": {
   "display_name": "Python 2",
   "language": "python",
   "name": "python2"
  },
  "language_info": {
   "codemirror_mode": {
    "name": "ipython",
    "version": 2
   },
   "file_extension": ".py",
   "mimetype": "text/x-python",
   "name": "python",
   "nbconvert_exporter": "python",
   "pygments_lexer": "ipython2",
   "version": "2.7.11"
  }
 },
 "nbformat": 4,
 "nbformat_minor": 0
}
